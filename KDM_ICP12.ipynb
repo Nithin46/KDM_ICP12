{
  "nbformat": 4,
  "nbformat_minor": 0,
  "metadata": {
    "colab": {
      "name": "KDM_ICP12.ipynb",
      "provenance": [],
      "authorship_tag": "ABX9TyORy7p6lAn55/IJ8dWdxQfJ",
      "include_colab_link": true
    },
    "kernelspec": {
      "name": "python3",
      "display_name": "Python 3"
    },
    "language_info": {
      "name": "python"
    },
    "accelerator": "GPU"
  },
  "cells": [
    {
      "cell_type": "markdown",
      "metadata": {
        "id": "view-in-github",
        "colab_type": "text"
      },
      "source": [
        "<a href=\"https://colab.research.google.com/github/Nithin46/KDM_ICP12/blob/main/KDM_ICP12.ipynb\" target=\"_parent\"><img src=\"https://colab.research.google.com/assets/colab-badge.svg\" alt=\"Open In Colab\"/></a>"
      ]
    },
    {
      "cell_type": "code",
      "metadata": {
        "id": "-l4ZngVFdXqQ"
      },
      "source": [
        "import numpy as np\n",
        "import math\n",
        "import pandas as pd\n",
        "import matplotlib.pyplot as plt\n",
        "\n",
        "from keras.models import Sequential\n",
        "from keras.layers import Dense, Dropout, LSTM\n",
        "from sklearn.preprocessing import MinMaxScaler\n",
        "from sklearn.metrics import mean_squared_error"
      ],
      "execution_count": 1,
      "outputs": []
    },
    {
      "cell_type": "markdown",
      "metadata": {
        "id": "Mo_T3kL5BRm1"
      },
      "source": [
        "**Prediction: using the number of passengers (in units of thousands) this month, what is the number of passengers next month?**\n",
        "\n",
        "We can write a simple function to convert our single column of data into a two-column dataset: the first column containing this month’s (t) passenger count and the second column containing next month’s (t+1) passenger count, to be predicted."
      ]
    },
    {
      "cell_type": "code",
      "metadata": {
        "colab": {
          "base_uri": "https://localhost:8080/"
        },
        "id": "6G-eb8tcdbxy",
        "outputId": "7ce39e57-1cc3-487f-d5c9-1c5d9ac5efe6"
      },
      "source": [
        "Data = pd.read_csv('https://raw.githubusercontent.com/jbrownlee/Datasets/master/airline-passengers.csv')\n",
        "\n",
        "Data.columns"
      ],
      "execution_count": 2,
      "outputs": [
        {
          "output_type": "execute_result",
          "data": {
            "text/plain": [
              "Index(['Month', 'Passengers'], dtype='object')"
            ]
          },
          "metadata": {
            "tags": []
          },
          "execution_count": 2
        }
      ]
    },
    {
      "cell_type": "markdown",
      "metadata": {
        "id": "6v6UKtjOCDIY"
      },
      "source": [
        "We are not interested in the date, given that each observation is separated by the same interval of one month. Therefore, when we load the dataset we can exclude the first column."
      ]
    },
    {
      "cell_type": "code",
      "metadata": {
        "id": "fG1z6nPuB__J"
      },
      "source": [
        "New_Data = Data['Passengers']\n",
        "\n",
        "New_Data = np.array(New_Data).reshape(-1,1)"
      ],
      "execution_count": 3,
      "outputs": []
    },
    {
      "cell_type": "code",
      "metadata": {
        "colab": {
          "base_uri": "https://localhost:8080/",
          "height": 282
        },
        "id": "Qa-91aWnd4YD",
        "outputId": "a8f61e76-17f2-44a9-c419-24f652dd2c0b"
      },
      "source": [
        "plt.plot(New_Data)"
      ],
      "execution_count": 4,
      "outputs": [
        {
          "output_type": "execute_result",
          "data": {
            "text/plain": [
              "[<matplotlib.lines.Line2D at 0x7f14f22efcd0>]"
            ]
          },
          "metadata": {
            "tags": []
          },
          "execution_count": 4
        },
        {
          "output_type": "display_data",
          "data": {
            "image/png": "[encoded data removed]",
            "text/plain": [
              "<Figure size 432x288 with 1 Axes>"
            ]
          },
          "metadata": {
            "tags": [],
            "needs_background": "light"
          }
        }
      ]
    },
    {
      "cell_type": "markdown",
      "metadata": {
        "id": "qaYNFj1b5eZK"
      },
      "source": [
        "LSTMs are sensitive to the scale of the input data, specifically when the sigmoid (default) or tanh activation functions are used. It can be a good practice to rescale the data to the range of 0-to-1, also called normalizing. We can easily normalize the dataset using the MinMaxScaler preprocessing class from the scikit-learn library."
      ]
    },
    {
      "cell_type": "code",
      "metadata": {
        "colab": {
          "base_uri": "https://localhost:8080/"
        },
        "id": "JC_A0Xv1eaoe",
        "outputId": "ae0a7cfc-1826-4622-e5ff-e890747134d2"
      },
      "source": [
        "scaler = MinMaxScaler()\n",
        "New_Data = scaler.fit_transform(New_Data)\n",
        "print(New_Data)"
      ],
      "execution_count": 5,
      "outputs": [
        {
          "output_type": "stream",
          "text": [
            "[[0.01544402]\n",
            " [0.02702703]\n",
            " [0.05405405]\n",
            " [0.04826255]\n",
            " [0.03281853]\n",
            " [0.05984556]\n",
            " [0.08494208]\n",
            " [0.08494208]\n",
            " [0.06177606]\n",
            " [0.02895753]\n",
            " [0.        ]\n",
            " [0.02702703]\n",
            " [0.02123552]\n",
            " [0.04247104]\n",
            " [0.07142857]\n",
            " [0.05984556]\n",
            " [0.04054054]\n",
            " [0.08687259]\n",
            " [0.12741313]\n",
            " [0.12741313]\n",
            " [0.1042471 ]\n",
            " [0.05598456]\n",
            " [0.01930502]\n",
            " [0.06949807]\n",
            " [0.07915058]\n",
            " [0.08880309]\n",
            " [0.14285714]\n",
            " [0.11389961]\n",
            " [0.13127413]\n",
            " [0.14285714]\n",
            " [0.18339768]\n",
            " [0.18339768]\n",
            " [0.15444015]\n",
            " [0.11196911]\n",
            " [0.08108108]\n",
            " [0.11969112]\n",
            " [0.12934363]\n",
            " [0.14671815]\n",
            " [0.17181467]\n",
            " [0.14864865]\n",
            " [0.15250965]\n",
            " [0.22007722]\n",
            " [0.24324324]\n",
            " [0.26640927]\n",
            " [0.2027027 ]\n",
            " [0.16795367]\n",
            " [0.13127413]\n",
            " [0.17374517]\n",
            " [0.17760618]\n",
            " [0.17760618]\n",
            " [0.25482625]\n",
            " [0.25289575]\n",
            " [0.24131274]\n",
            " [0.26833977]\n",
            " [0.30888031]\n",
            " [0.32432432]\n",
            " [0.25675676]\n",
            " [0.20656371]\n",
            " [0.14671815]\n",
            " [0.18725869]\n",
            " [0.19305019]\n",
            " [0.16216216]\n",
            " [0.25289575]\n",
            " [0.23745174]\n",
            " [0.25096525]\n",
            " [0.30888031]\n",
            " [0.38223938]\n",
            " [0.36486486]\n",
            " [0.2992278 ]\n",
            " [0.24131274]\n",
            " [0.19111969]\n",
            " [0.24131274]\n",
            " [0.26640927]\n",
            " [0.24903475]\n",
            " [0.31467181]\n",
            " [0.31853282]\n",
            " [0.32046332]\n",
            " [0.40733591]\n",
            " [0.5019305 ]\n",
            " [0.46911197]\n",
            " [0.4015444 ]\n",
            " [0.32818533]\n",
            " [0.25675676]\n",
            " [0.33590734]\n",
            " [0.34749035]\n",
            " [0.33397683]\n",
            " [0.41119691]\n",
            " [0.4034749 ]\n",
            " [0.41312741]\n",
            " [0.52123552]\n",
            " [0.5965251 ]\n",
            " [0.58108108]\n",
            " [0.48455598]\n",
            " [0.38996139]\n",
            " [0.32239382]\n",
            " [0.38996139]\n",
            " [0.40733591]\n",
            " [0.38030888]\n",
            " [0.48648649]\n",
            " [0.47104247]\n",
            " [0.48455598]\n",
            " [0.61389961]\n",
            " [0.6969112 ]\n",
            " [0.7007722 ]\n",
            " [0.57915058]\n",
            " [0.46911197]\n",
            " [0.38803089]\n",
            " [0.44787645]\n",
            " [0.45559846]\n",
            " [0.41312741]\n",
            " [0.4980695 ]\n",
            " [0.47104247]\n",
            " [0.5       ]\n",
            " [0.63899614]\n",
            " [0.74710425]\n",
            " [0.77413127]\n",
            " [0.57915058]\n",
            " [0.49227799]\n",
            " [0.3976834 ]\n",
            " [0.44980695]\n",
            " [0.49420849]\n",
            " [0.45945946]\n",
            " [0.58301158]\n",
            " [0.56370656]\n",
            " [0.61003861]\n",
            " [0.71042471]\n",
            " [0.85714286]\n",
            " [0.87837838]\n",
            " [0.69305019]\n",
            " [0.58494208]\n",
            " [0.4980695 ]\n",
            " [0.58108108]\n",
            " [0.6042471 ]\n",
            " [0.55405405]\n",
            " [0.60810811]\n",
            " [0.68918919]\n",
            " [0.71042471]\n",
            " [0.83204633]\n",
            " [1.        ]\n",
            " [0.96911197]\n",
            " [0.77992278]\n",
            " [0.68918919]\n",
            " [0.55212355]\n",
            " [0.63320463]]\n"
          ],
          "name": "stdout"
        }
      ]
    },
    {
      "cell_type": "code",
      "metadata": {
        "colab": {
          "base_uri": "https://localhost:8080/"
        },
        "id": "kwhAbqnngPEK",
        "outputId": "46eef949-be66-419d-9849-5c37daf16a9a"
      },
      "source": [
        "New_Data.shape"
      ],
      "execution_count": 6,
      "outputs": [
        {
          "output_type": "execute_result",
          "data": {
            "text/plain": [
              "(144, 1)"
            ]
          },
          "metadata": {
            "tags": []
          },
          "execution_count": 6
        }
      ]
    },
    {
      "cell_type": "markdown",
      "metadata": {
        "id": "P4zm2u4-5yuN"
      },
      "source": [
        "With time series data, the sequence of values is important. A simple method that we can use is to split the ordered dataset into train and test datasets."
      ]
    },
    {
      "cell_type": "code",
      "metadata": {
        "id": "WW9smjlgfnxr"
      },
      "source": [
        "train_size = 120\n",
        "test_size = 24"
      ],
      "execution_count": 7,
      "outputs": []
    },
    {
      "cell_type": "code",
      "metadata": {
        "colab": {
          "base_uri": "https://localhost:8080/"
        },
        "id": "MQ23fJ0zfshs",
        "outputId": "6ec1c8dc-cd1e-4f35-9eb8-31208aa389d1"
      },
      "source": [
        "train = New_Data[:train_size]\n",
        "train.shape"
      ],
      "execution_count": 8,
      "outputs": [
        {
          "output_type": "execute_result",
          "data": {
            "text/plain": [
              "(120, 1)"
            ]
          },
          "metadata": {
            "tags": []
          },
          "execution_count": 8
        }
      ]
    },
    {
      "cell_type": "code",
      "metadata": {
        "colab": {
          "base_uri": "https://localhost:8080/"
        },
        "id": "JFKdOg1ggDPG",
        "outputId": "f38ac237-d5ad-4134-c114-88871e8f6ea3"
      },
      "source": [
        "test = New_Data[train_size:144]\n",
        "test.shape"
      ],
      "execution_count": 9,
      "outputs": [
        {
          "output_type": "execute_result",
          "data": {
            "text/plain": [
              "(24, 1)"
            ]
          },
          "metadata": {
            "tags": []
          },
          "execution_count": 9
        }
      ]
    },
    {
      "cell_type": "markdown",
      "metadata": {
        "id": "wrR-oV-wgV7j"
      },
      "source": [
        "We can write a simple function to convert our single column of data into a two-column dataset: the first column containing this month’s (t) passenger count and the second column containing next month’s (t+1) passenger count, to be predicted."
      ]
    },
    {
      "cell_type": "code",
      "metadata": {
        "id": "m_gEqG6bgZn_"
      },
      "source": [
        "# convert an array of values into a dataset matrix\n",
        "def create_dataset(dataset, look_back=1):\n",
        "\tdataX, dataY = [], []\n",
        "\tfor i in range(len(dataset)-look_back-1):\n",
        "\t\ta = dataset[i:(i+look_back), 0]\n",
        "\t\tdataX.append(a)\n",
        "\t\tdataY.append(dataset[i + look_back, 0])\n",
        "\treturn np.array(dataX), np.array(dataY)"
      ],
      "execution_count": 10,
      "outputs": []
    },
    {
      "cell_type": "code",
      "metadata": {
        "id": "uF6zJyWKiBWr"
      },
      "source": [
        "look_back = 1\n",
        "X_train, y_train = create_dataset(train, look_back)"
      ],
      "execution_count": 11,
      "outputs": []
    },
    {
      "cell_type": "code",
      "metadata": {
        "colab": {
          "base_uri": "https://localhost:8080/"
        },
        "id": "j6nxOwrXiSUL",
        "outputId": "51987ab2-1a58-4ce9-bc11-b240d26f7af0"
      },
      "source": [
        "print(X_train.shape)\n",
        "print(y_train.shape)"
      ],
      "execution_count": 12,
      "outputs": [
        {
          "output_type": "stream",
          "text": [
            "(118, 1)\n",
            "(118,)\n"
          ],
          "name": "stdout"
        }
      ]
    },
    {
      "cell_type": "code",
      "metadata": {
        "id": "Qvl8lhFXkDJQ"
      },
      "source": [
        "look_back = 1\n",
        "X_test, y_test = create_dataset(test, look_back)"
      ],
      "execution_count": 13,
      "outputs": []
    },
    {
      "cell_type": "code",
      "metadata": {
        "colab": {
          "base_uri": "https://localhost:8080/"
        },
        "id": "_cODijyjkPz5",
        "outputId": "61df7cc5-25be-4a49-d154-d8bd486147c2"
      },
      "source": [
        "print(X_test.shape)\n",
        "print(y_test.shape)"
      ],
      "execution_count": 14,
      "outputs": [
        {
          "output_type": "stream",
          "text": [
            "(22, 1)\n",
            "(22,)\n"
          ],
          "name": "stdout"
        }
      ]
    },
    {
      "cell_type": "code",
      "metadata": {
        "colab": {
          "base_uri": "https://localhost:8080/"
        },
        "id": "S97oCqRZkeNg",
        "outputId": "d7cdcb51-3730-48c4-85b4-a31a04c0253c"
      },
      "source": [
        "X_train = X_train.reshape(X_train.shape[0],X_train.shape[1],1)\n",
        "X_test = X_test.reshape(X_test.shape[0],X_test.shape[1],1)\n",
        "print(\"New training data shape:\", X_train.shape)\n",
        "print(\"New testing data shape:\", X_test.shape)"
      ],
      "execution_count": 15,
      "outputs": [
        {
          "output_type": "stream",
          "text": [
            "New training data shape: (118, 1, 1)\n",
            "New testing data shape: (22, 1, 1)\n"
          ],
          "name": "stdout"
        }
      ]
    },
    {
      "cell_type": "markdown",
      "metadata": {
        "id": "RaLUtUzQlhX3"
      },
      "source": [
        "Now, Build a simple LSTM model on training data. The LSTM architecture here consists of:\n",
        "1.   One input layer.\n",
        "2.   Two LSTM layer of 4 blocks.\n",
        "3.   Dropout values\n",
        "4.   One Dense layer to produce a single output.\n",
        "5.   Use MSE as loss function"
      ]
    },
    {
      "cell_type": "code",
      "metadata": {
        "id": "HRIi84j4lfj2"
      },
      "source": [
        "model = Sequential()\n",
        "model.add(LSTM(4,input_shape = (1, look_back),return_sequences=True))\n",
        "model.add(Dropout(0.5))\n",
        "model.add(LSTM(4))\n",
        "model.add(Dropout(0.5))\n",
        "model.add(Dense(1))\n",
        "model.compile(loss = \"mean_squared_error\", optimizer = \"adam\")"
      ],
      "execution_count": 16,
      "outputs": []
    },
    {
      "cell_type": "code",
      "metadata": {
        "colab": {
          "base_uri": "https://localhost:8080/"
        },
        "id": "NnHL2lVTl-is",
        "outputId": "675bb12b-64b4-4357-bcb4-40c113f86fde"
      },
      "source": [
        "model.summary()"
      ],
      "execution_count": 17,
      "outputs": [
        {
          "output_type": "stream",
          "text": [
            "Model: \"sequential\"\n",
            "_________________________________________________________________\n",
            "Layer (type)                 Output Shape              Param #   \n",
            "=================================================================\n",
            "lstm (LSTM)                  (None, 1, 4)              96        \n",
            "_________________________________________________________________\n",
            "dropout (Dropout)            (None, 1, 4)              0         \n",
            "_________________________________________________________________\n",
            "lstm_1 (LSTM)                (None, 4)                 144       \n",
            "_________________________________________________________________\n",
            "dropout_1 (Dropout)          (None, 4)                 0         \n",
            "_________________________________________________________________\n",
            "dense (Dense)                (None, 1)                 5         \n",
            "=================================================================\n",
            "Total params: 245\n",
            "Trainable params: 245\n",
            "Non-trainable params: 0\n",
            "_________________________________________________________________\n"
          ],
          "name": "stdout"
        }
      ]
    },
    {
      "cell_type": "code",
      "metadata": {
        "colab": {
          "base_uri": "https://localhost:8080/"
        },
        "id": "rLdBaD-7mLiq",
        "outputId": "980f9521-d340-4677-aaad-f017ca41e879"
      },
      "source": [
        "model.fit(X_train, y_train, epochs = 100, batch_size = 10)"
      ],
      "execution_count": 18,
      "outputs": [
        {
          "output_type": "stream",
          "text": [
            "Epoch 1/100\n",
            "12/12 [==============================] - 5s 4ms/step - loss: 0.0982\n",
            "Epoch 2/100\n",
            "12/12 [==============================] - 0s 4ms/step - loss: 0.0788\n",
            "Epoch 3/100\n",
            "12/12 [==============================] - 0s 4ms/step - loss: 0.0850\n",
            "Epoch 4/100\n",
            "12/12 [==============================] - 0s 4ms/step - loss: 0.0766\n",
            "Epoch 5/100\n",
            "12/12 [==============================] - 0s 4ms/step - loss: 0.0764\n",
            "Epoch 6/100\n",
            "12/12 [==============================] - 0s 4ms/step - loss: 0.0643\n",
            "Epoch 7/100\n",
            "12/12 [==============================] - 0s 4ms/step - loss: 0.0577\n",
            "Epoch 8/100\n",
            "12/12 [==============================] - 0s 4ms/step - loss: 0.0521\n",
            "Epoch 9/100\n",
            "12/12 [==============================] - 0s 4ms/step - loss: 0.0436\n",
            "Epoch 10/100\n",
            "12/12 [==============================] - 0s 4ms/step - loss: 0.0434\n",
            "Epoch 11/100\n",
            "12/12 [==============================] - 0s 4ms/step - loss: 0.0383\n",
            "Epoch 12/100\n",
            "12/12 [==============================] - 0s 4ms/step - loss: 0.0419\n",
            "Epoch 13/100\n",
            "12/12 [==============================] - 0s 4ms/step - loss: 0.0390\n",
            "Epoch 14/100\n",
            "12/12 [==============================] - 0s 4ms/step - loss: 0.0299\n",
            "Epoch 15/100\n",
            "12/12 [==============================] - 0s 5ms/step - loss: 0.0326\n",
            "Epoch 16/100\n",
            "12/12 [==============================] - 0s 4ms/step - loss: 0.0371\n",
            "Epoch 17/100\n",
            "12/12 [==============================] - 0s 4ms/step - loss: 0.0319\n",
            "Epoch 18/100\n",
            "12/12 [==============================] - 0s 4ms/step - loss: 0.0312\n",
            "Epoch 19/100\n",
            "12/12 [==============================] - 0s 4ms/step - loss: 0.0307\n",
            "Epoch 20/100\n",
            "12/12 [==============================] - 0s 4ms/step - loss: 0.0343\n",
            "Epoch 21/100\n",
            "12/12 [==============================] - 0s 4ms/step - loss: 0.0318\n",
            "Epoch 22/100\n",
            "12/12 [==============================] - 0s 4ms/step - loss: 0.0289\n",
            "Epoch 23/100\n",
            "12/12 [==============================] - 0s 4ms/step - loss: 0.0366\n",
            "Epoch 24/100\n",
            "12/12 [==============================] - 0s 4ms/step - loss: 0.0275\n",
            "Epoch 25/100\n",
            "12/12 [==============================] - 0s 4ms/step - loss: 0.0315\n",
            "Epoch 26/100\n",
            "12/12 [==============================] - 0s 4ms/step - loss: 0.0343\n",
            "Epoch 27/100\n",
            "12/12 [==============================] - 0s 6ms/step - loss: 0.0306\n",
            "Epoch 28/100\n",
            "12/12 [==============================] - 0s 4ms/step - loss: 0.0292\n",
            "Epoch 29/100\n",
            "12/12 [==============================] - 0s 4ms/step - loss: 0.0290\n",
            "Epoch 30/100\n",
            "12/12 [==============================] - 0s 4ms/step - loss: 0.0338\n",
            "Epoch 31/100\n",
            "12/12 [==============================] - 0s 4ms/step - loss: 0.0245\n",
            "Epoch 32/100\n",
            "12/12 [==============================] - 0s 4ms/step - loss: 0.0316\n",
            "Epoch 33/100\n",
            "12/12 [==============================] - 0s 4ms/step - loss: 0.0230\n",
            "Epoch 34/100\n",
            "12/12 [==============================] - 0s 4ms/step - loss: 0.0323\n",
            "Epoch 35/100\n",
            "12/12 [==============================] - 0s 4ms/step - loss: 0.0347\n",
            "Epoch 36/100\n",
            "12/12 [==============================] - 0s 4ms/step - loss: 0.0228\n",
            "Epoch 37/100\n",
            "12/12 [==============================] - 0s 4ms/step - loss: 0.0255\n",
            "Epoch 38/100\n",
            "12/12 [==============================] - 0s 4ms/step - loss: 0.0236\n",
            "Epoch 39/100\n",
            "12/12 [==============================] - 0s 4ms/step - loss: 0.0240\n",
            "Epoch 40/100\n",
            "12/12 [==============================] - 0s 4ms/step - loss: 0.0285\n",
            "Epoch 41/100\n",
            "12/12 [==============================] - 0s 4ms/step - loss: 0.0309\n",
            "Epoch 42/100\n",
            "12/12 [==============================] - 0s 4ms/step - loss: 0.0263\n",
            "Epoch 43/100\n",
            "12/12 [==============================] - 0s 4ms/step - loss: 0.0219\n",
            "Epoch 44/100\n",
            "12/12 [==============================] - 0s 4ms/step - loss: 0.0255\n",
            "Epoch 45/100\n",
            "12/12 [==============================] - 0s 4ms/step - loss: 0.0201\n",
            "Epoch 46/100\n",
            "12/12 [==============================] - 0s 4ms/step - loss: 0.0228\n",
            "Epoch 47/100\n",
            "12/12 [==============================] - 0s 4ms/step - loss: 0.0271\n",
            "Epoch 48/100\n",
            "12/12 [==============================] - 0s 4ms/step - loss: 0.0216\n",
            "Epoch 49/100\n",
            "12/12 [==============================] - 0s 4ms/step - loss: 0.0203\n",
            "Epoch 50/100\n",
            "12/12 [==============================] - 0s 4ms/step - loss: 0.0187\n",
            "Epoch 51/100\n",
            "12/12 [==============================] - 0s 4ms/step - loss: 0.0214\n",
            "Epoch 52/100\n",
            "12/12 [==============================] - 0s 4ms/step - loss: 0.0187\n",
            "Epoch 53/100\n",
            "12/12 [==============================] - 0s 4ms/step - loss: 0.0215\n",
            "Epoch 54/100\n",
            "12/12 [==============================] - 0s 4ms/step - loss: 0.0257\n",
            "Epoch 55/100\n",
            "12/12 [==============================] - 0s 4ms/step - loss: 0.0192\n",
            "Epoch 56/100\n",
            "12/12 [==============================] - 0s 4ms/step - loss: 0.0231\n",
            "Epoch 57/100\n",
            "12/12 [==============================] - 0s 4ms/step - loss: 0.0165\n",
            "Epoch 58/100\n",
            "12/12 [==============================] - 0s 4ms/step - loss: 0.0262\n",
            "Epoch 59/100\n",
            "12/12 [==============================] - 0s 4ms/step - loss: 0.0130\n",
            "Epoch 60/100\n",
            "12/12 [==============================] - 0s 4ms/step - loss: 0.0192\n",
            "Epoch 61/100\n",
            "12/12 [==============================] - 0s 4ms/step - loss: 0.0171\n",
            "Epoch 62/100\n",
            "12/12 [==============================] - 0s 4ms/step - loss: 0.0137\n",
            "Epoch 63/100\n",
            "12/12 [==============================] - 0s 4ms/step - loss: 0.0188\n",
            "Epoch 64/100\n",
            "12/12 [==============================] - 0s 4ms/step - loss: 0.0112\n",
            "Epoch 65/100\n",
            "12/12 [==============================] - 0s 4ms/step - loss: 0.0175\n",
            "Epoch 66/100\n",
            "12/12 [==============================] - 0s 4ms/step - loss: 0.0187\n",
            "Epoch 67/100\n",
            "12/12 [==============================] - 0s 4ms/step - loss: 0.0178\n",
            "Epoch 68/100\n",
            "12/12 [==============================] - 0s 5ms/step - loss: 0.0186\n",
            "Epoch 69/100\n",
            "12/12 [==============================] - 0s 4ms/step - loss: 0.0171\n",
            "Epoch 70/100\n",
            "12/12 [==============================] - 0s 4ms/step - loss: 0.0160\n",
            "Epoch 71/100\n",
            "12/12 [==============================] - 0s 4ms/step - loss: 0.0154\n",
            "Epoch 72/100\n",
            "12/12 [==============================] - 0s 4ms/step - loss: 0.0161\n",
            "Epoch 73/100\n",
            "12/12 [==============================] - 0s 4ms/step - loss: 0.0134\n",
            "Epoch 74/100\n",
            "12/12 [==============================] - 0s 4ms/step - loss: 0.0159\n",
            "Epoch 75/100\n",
            "12/12 [==============================] - 0s 4ms/step - loss: 0.0183\n",
            "Epoch 76/100\n",
            "12/12 [==============================] - 0s 5ms/step - loss: 0.0184\n",
            "Epoch 77/100\n",
            "12/12 [==============================] - 0s 4ms/step - loss: 0.0138\n",
            "Epoch 78/100\n",
            "12/12 [==============================] - 0s 4ms/step - loss: 0.0176\n",
            "Epoch 79/100\n",
            "12/12 [==============================] - 0s 4ms/step - loss: 0.0164\n",
            "Epoch 80/100\n",
            "12/12 [==============================] - 0s 4ms/step - loss: 0.0179\n",
            "Epoch 81/100\n",
            "12/12 [==============================] - 0s 4ms/step - loss: 0.0122\n",
            "Epoch 82/100\n",
            "12/12 [==============================] - 0s 4ms/step - loss: 0.0123\n",
            "Epoch 83/100\n",
            "12/12 [==============================] - 0s 4ms/step - loss: 0.0135\n",
            "Epoch 84/100\n",
            "12/12 [==============================] - 0s 4ms/step - loss: 0.0128\n",
            "Epoch 85/100\n",
            "12/12 [==============================] - 0s 4ms/step - loss: 0.0136\n",
            "Epoch 86/100\n",
            "12/12 [==============================] - 0s 4ms/step - loss: 0.0134\n",
            "Epoch 87/100\n",
            "12/12 [==============================] - 0s 4ms/step - loss: 0.0160\n",
            "Epoch 88/100\n",
            "12/12 [==============================] - 0s 4ms/step - loss: 0.0146\n",
            "Epoch 89/100\n",
            "12/12 [==============================] - 0s 4ms/step - loss: 0.0143\n",
            "Epoch 90/100\n",
            "12/12 [==============================] - 0s 4ms/step - loss: 0.0151\n",
            "Epoch 91/100\n",
            "12/12 [==============================] - 0s 4ms/step - loss: 0.0138\n",
            "Epoch 92/100\n",
            "12/12 [==============================] - 0s 4ms/step - loss: 0.0158\n",
            "Epoch 93/100\n",
            "12/12 [==============================] - 0s 4ms/step - loss: 0.0128\n",
            "Epoch 94/100\n",
            "12/12 [==============================] - 0s 4ms/step - loss: 0.0124\n",
            "Epoch 95/100\n",
            "12/12 [==============================] - 0s 5ms/step - loss: 0.0129\n",
            "Epoch 96/100\n",
            "12/12 [==============================] - 0s 4ms/step - loss: 0.0139\n",
            "Epoch 97/100\n",
            "12/12 [==============================] - 0s 4ms/step - loss: 0.0100\n",
            "Epoch 98/100\n",
            "12/12 [==============================] - 0s 4ms/step - loss: 0.0339\n",
            "Epoch 99/100\n",
            "12/12 [==============================] - 0s 4ms/step - loss: 0.0183\n",
            "Epoch 100/100\n",
            "12/12 [==============================] - 0s 4ms/step - loss: 0.0101\n"
          ],
          "name": "stdout"
        },
        {
          "output_type": "execute_result",
          "data": {
            "text/plain": [
              "<tensorflow.python.keras.callbacks.History at 0x7f14a62b9c50>"
            ]
          },
          "metadata": {
            "tags": []
          },
          "execution_count": 18
        }
      ]
    },
    {
      "cell_type": "code",
      "metadata": {
        "id": "4ghv-L6xm7RI"
      },
      "source": [
        "trainPredict = model.predict(X_train)\n",
        "testPredict = model.predict(X_test)"
      ],
      "execution_count": 19,
      "outputs": []
    },
    {
      "cell_type": "code",
      "metadata": {
        "id": "D-e8ZNJA7MTj"
      },
      "source": [
        "trainPredict = scaler.inverse_transform(trainPredict)\n",
        "trainY = scaler.inverse_transform([y_train])\n",
        "testPredict = scaler.inverse_transform(testPredict)\n",
        "testY = scaler.inverse_transform([y_test])"
      ],
      "execution_count": 20,
      "outputs": []
    },
    {
      "cell_type": "code",
      "metadata": {
        "colab": {
          "base_uri": "https://localhost:8080/"
        },
        "id": "MgRJCL7k7IUb",
        "outputId": "2d556de8-ac48-4846-f158-9d03fb611e98"
      },
      "source": [
        "trainScore = math.sqrt(mean_squared_error(trainY[0], trainPredict[:,0]))\n",
        "print('Training Data Score: %.2f RMSE' % (trainScore))\n",
        "testScore = math.sqrt(mean_squared_error(testY[0], testPredict[:,0]))\n",
        "print('Testing Data Score: %.2f RMSE' % (testScore))"
      ],
      "execution_count": 21,
      "outputs": [
        {
          "output_type": "stream",
          "text": [
            "Training Data Score: 47.56 RMSE\n",
            "Testing Data Score: 104.60 RMSE\n"
          ],
          "name": "stdout"
        }
      ]
    },
    {
      "cell_type": "code",
      "metadata": {
        "id": "harAEpSQ9hwx"
      },
      "source": [
        "# Start with training predictions.\n",
        "train_predict_plot = np.empty_like(New_Data)\n",
        "train_predict_plot[:, :] = np.nan\n",
        "train_predict_plot[look_back:len(trainPredict) + look_back, :] = trainPredict\n",
        "\n",
        "# Add test predictions.\n",
        "test_predict_plot = np.empty_like(New_Data)\n",
        "test_predict_plot[:, :] = np.nan\n",
        "test_predict_plot[len(trainPredict) + (look_back * 2) + 1:len(New_Data) - 1, :] = testPredict"
      ],
      "execution_count": 22,
      "outputs": []
    },
    {
      "cell_type": "code",
      "metadata": {
        "colab": {
          "base_uri": "https://localhost:8080/",
          "height": 350
        },
        "id": "s5ucCwXK87hs",
        "outputId": "cd57a883-dd2a-4ff2-9923-7acd92106f63"
      },
      "source": [
        "plt.figure(figsize = (10, 5))\n",
        "plt.plot(scaler.inverse_transform(New_Data), label = \"True value\")\n",
        "\n",
        "plt.plot(train_predict_plot, label = \"Training set prediction\")\n",
        "plt.plot(test_predict_plot, label = \"Test set prediction\")\n",
        "\n",
        "plt.xlabel(\"Months\")\n",
        "plt.ylabel(\"1000 International Airline Passengers\")\n",
        "plt.title(\"Comparison true vs. predicted training / test\")\n",
        "plt.legend()\n",
        "plt.show()"
      ],
      "execution_count": 23,
      "outputs": [
        {
          "output_type": "display_data",
          "data": {
            "image/png": "[encoded data removed]",
            "text/plain": [
              "<Figure size 720x360 with 1 Axes>"
            ]
          },
          "metadata": {
            "tags": [],
            "needs_background": "light"
          }
        }
      ]
    }
  ]
}